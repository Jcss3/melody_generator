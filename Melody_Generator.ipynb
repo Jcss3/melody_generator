{
 "cells": [
  {
   "cell_type": "markdown",
   "metadata": {
    "id": "8Uajx5i_cQ07"
   },
   "source": [
    "### Imports"
   ]
  },
  {
   "cell_type": "code",
   "execution_count": null,
   "metadata": {
    "colab": {
     "base_uri": "https://localhost:8080/"
    },
    "executionInfo": {
     "elapsed": 29074,
     "status": "ok",
     "timestamp": 1651352941740,
     "user": {
      "displayName": "Jeffson Carneiro Silva Simoes",
      "userId": "14313036157470623052"
     },
     "user_tz": 180
    },
    "id": "HpRoOLGHcm34",
    "outputId": "21eeb447-c267-414f-9a49-6aa27221edd5"
   },
   "outputs": [
    {
     "name": "stdout",
     "output_type": "stream",
     "text": [
      "Mounted at /content/drive\n"
     ]
    }
   ],
   "source": [
    "from google.colab import drive\n",
    "drive.mount('/content/drive',force_remount=True)\n"
   ]
  },
  {
   "cell_type": "code",
   "execution_count": null,
   "metadata": {
    "colab": {
     "base_uri": "https://localhost:8080/"
    },
    "executionInfo": {
     "elapsed": 5790,
     "status": "ok",
     "timestamp": 1651352953179,
     "user": {
      "displayName": "Jeffson Carneiro Silva Simoes",
      "userId": "14313036157470623052"
     },
     "user_tz": 180
    },
    "id": "8eHyuqtg1KWC",
    "outputId": "702b6bd5-4dc9-4fae-a79d-22984d861c8e"
   },
   "outputs": [
    {
     "name": "stdout",
     "output_type": "stream",
     "text": [
      "[name: \"/device:CPU:0\"\n",
      "device_type: \"CPU\"\n",
      "memory_limit: 268435456\n",
      "locality {\n",
      "}\n",
      "incarnation: 9761920121029371495\n",
      "xla_global_id: -1\n",
      ", name: \"/device:GPU:0\"\n",
      "device_type: \"GPU\"\n",
      "memory_limit: 11320098816\n",
      "locality {\n",
      "  bus_id: 1\n",
      "  links {\n",
      "  }\n",
      "}\n",
      "incarnation: 5012691065792644854\n",
      "physical_device_desc: \"device: 0, name: Tesla K80, pci bus id: 0000:00:04.0, compute capability: 3.7\"\n",
      "xla_global_id: 416903419\n",
      "]\n"
     ]
    }
   ],
   "source": [
    "from tensorflow.python.client import device_lib\n",
    "print(device_lib.list_local_devices())"
   ]
  },
  {
   "cell_type": "code",
   "execution_count": null,
   "metadata": {
    "colab": {
     "base_uri": "https://localhost:8080/"
    },
    "executionInfo": {
     "elapsed": 550,
     "status": "ok",
     "timestamp": 1651352977198,
     "user": {
      "displayName": "Jeffson Carneiro Silva Simoes",
      "userId": "14313036157470623052"
     },
     "user_tz": 180
    },
    "id": "VRnf50QK1Rcv",
    "outputId": "b9cf9c2b-e2a3-4573-a9d9-99b7c0ff707f"
   },
   "outputs": [
    {
     "name": "stdout",
     "output_type": "stream",
     "text": [
      "Num GPUs Available:  1\n"
     ]
    }
   ],
   "source": [
    "import tensorflow as tf\n",
    "print(\"Num GPUs Available: \", len(tf.config.experimental.list_physical_devices('GPU')))"
   ]
  },
  {
   "cell_type": "code",
   "execution_count": null,
   "metadata": {
    "colab": {
     "base_uri": "https://localhost:8080/"
    },
    "executionInfo": {
     "elapsed": 13,
     "status": "ok",
     "timestamp": 1651352980468,
     "user": {
      "displayName": "Jeffson Carneiro Silva Simoes",
      "userId": "14313036157470623052"
     },
     "user_tz": 180
    },
    "id": "pAJvJF_X1DWx",
    "outputId": "03dd1af0-e33f-4fc6-e371-fdc4a6f78a34"
   },
   "outputs": [
    {
     "name": "stdout",
     "output_type": "stream",
     "text": [
      "Found GPU at: /device:GPU:0\n"
     ]
    }
   ],
   "source": [
    "device_name = tf.test.gpu_device_name()\n",
    "if device_name != '/device:GPU:0':\n",
    "    raise SystemError('GPU device not found')\n",
    "print('Found GPU at: {}'.format(device_name))"
   ]
  },
  {
   "cell_type": "code",
   "execution_count": null,
   "metadata": {
    "id": "GdUcYzf7dh1I"
   },
   "outputs": [],
   "source": [
    "#!ls /content/drive/MyDrive/'Musical 2'/projeto/dataset"
   ]
  },
  {
   "cell_type": "code",
   "execution_count": null,
   "metadata": {
    "id": "ew5-n4XycQ1B"
   },
   "outputs": [],
   "source": [
    "import os\n",
    "import music21 as m21\n",
    "import json\n",
    "import tensorflow.keras as keras\n",
    "import tensorflow as tf\n",
    "import numpy as np\n",
    "#us = m21.environment.UserSettings()\n",
    "#us['musicxmlPath'] = r\"C:\\Program Files\\MuseScore 3\\bin\\MuseScore3.exe\"\n",
    "#us['musescoreDirectPNGPath'] = r\"C:\\Program Files\\MuseScore 3\\bin\\MuseScore3.exe\""
   ]
  },
  {
   "cell_type": "markdown",
   "metadata": {
    "id": "eK1h-xeBcQ1D"
   },
   "source": [
    "### Preprocessamento dos Dados\n",
    "* Dados do formato  .krn (partituras)\n",
    "* Criar dataset a partir dessas partituras\n",
    "* Converter-los para uma representação viavel para a Rede Neural"
   ]
  },
  {
   "cell_type": "code",
   "execution_count": null,
   "metadata": {
    "id": "s4QZyEuOcQ1E"
   },
   "outputs": [],
   "source": [
    "# variaveis globais\n",
    "PATH_TEST = 'deutschl/test'\n",
    "PATH_erk = '/content/drive/MyDrive/''Musical 2''/projeto/erk'\n",
    "SAVE_DIR = '/content/drive/MyDrive/''Musical 2''/projeto/dataset'\n",
    "SINGLE_FILE_DATASET = '/content/drive/MyDrive/''Musical 2''/projeto/file_dataset'\n",
    "SEQUENCE_LENGTH = 64\n",
    "MAPPING_PATH = '/content/drive/MyDrive/''Musical 2''/projeto/mapping.json'\n",
    "\n",
    "ACCEPTABLE_DURATIONS = [\n",
    "    0.25, \n",
    "    0.5, \n",
    "    0.75,\n",
    "    1.0,\n",
    "    1.5,\n",
    "    2.0,\n",
    "    3.0,\n",
    "    4.0\n",
    "]"
   ]
  },
  {
   "cell_type": "code",
   "execution_count": null,
   "metadata": {
    "id": "3mRA511rcQ1F"
   },
   "outputs": [],
   "source": [
    "# função para carregar songs do dataset com m21 para symbolic music, apenas arquivos .krn - symbolic music format\n",
    "def load_songs_in_kern(dataset_path):\n",
    "    # percorrer todos os files do dataset e load com music21\n",
    "    songs = []\n",
    "    for path, subdirs, files in os.walk(dataset_path):\n",
    "        for file in files:\n",
    "            if file[-4:] == '.krn':\n",
    "                song = m21.converter.parse(os.path.join(path,file))\n",
    "                songs.append(song)\n",
    "    return songs\n",
    "# songs = load_songs_in_kern(PATH_erk)\n",
    "# print(f'Loaded {len(songs)} songs!')"
   ]
  },
  {
   "cell_type": "code",
   "execution_count": null,
   "metadata": {
    "id": "RXeYn9xbcQ1H"
   },
   "outputs": [],
   "source": [
    "# verificar durations acceptable\n",
    "def verify_duration(song, acceptable_durations):\n",
    "    for note in song.flat.notesAndRests:\n",
    "        if note.duration.quarterLength not in acceptable_durations:\n",
    "            return False\n",
    "    return True\n",
    "\n",
    "#print(f'Has Acceptable Duration? {verify_duration(songs[0],ACCEPTABLE_DURATIONS)}')\n",
    "\n",
    "# Abre o musescore e mostra a symbolic music\n",
    "# songs[0].show('midi') to display here on jupyter\n",
    "#print('Abrindo museScore para testar a musica!')\n",
    "#songs[0].show('musicxml') # to display on musescore"
   ]
  },
  {
   "cell_type": "code",
   "execution_count": null,
   "metadata": {
    "id": "OXBvC3MzcQ1J"
   },
   "outputs": [],
   "source": [
    "#jogar tudo para Cmajor/Aminor para o modelo aprender nessas keys, Caso fosse para as 24 keys exigiria de mais poder computacional\n",
    "def transpose(song):\n",
    "    # get the key from song\n",
    "    parts = song.getElementsByClass(m21.stream.Part) # Part 1 violin, Part 2 cello ....\n",
    "    measures_part0 = parts[0].getElementsByClass(m21.stream.Measure)\n",
    "    key = measures_part0[0][4] # index 4 indicando posição de key\n",
    "    \n",
    "    # estimate key using m21\n",
    "    if not isinstance(key, m21.key.Key):\n",
    "        key = song.analyze(\"key\") # m21 vai estimar qual a key da song caso the key não seja encontrada\n",
    "    \n",
    "    print(f'Original Key: {key}')\n",
    "    \n",
    "    # get interval for transposition Ex: Bmaj -> Cmaj\n",
    "    interval = None\n",
    "    if key.mode == \"major\":\n",
    "        print('In case of Major mode map to C')\n",
    "        interval = m21.interval.Interval(key.tonic, m21.pitch.Pitch(\"C\"))\n",
    "    elif key.mode == \"minor\":\n",
    "        print('In case of Minor mode map to A')\n",
    "        interval = m21.interval.Interval(key.tonic, m21.pitch.Pitch(\"A\"))\n",
    "\n",
    "    # trnaspose song using calculated interval\n",
    "    transposed_song = song.transpose(interval)\n",
    "    \n",
    "    return transposed_song\n",
    "\n",
    "\n",
    "#song_0 = transpose(songs[0])\n",
    "# Abre o musescore e mostra a symbolic music da music 0 transposed\n",
    "#print('Abrindo museScore para testar a musica transposed!')\n",
    "#song_0.show('musicxml')"
   ]
  },
  {
   "cell_type": "code",
   "execution_count": null,
   "metadata": {
    "id": "_5bB1rpTcQ1K"
   },
   "outputs": [],
   "source": [
    "# encodificar as notas com midi representation numbers, r para rests\n",
    "def encode_song(song,time_step = 0.25):\n",
    "    # pitch = 60 , duration 1(quarter note) -> [60, \"_\", \"_\", \"_\"]\n",
    "    encoded_song = []\n",
    "    \n",
    "    for event in song.flat.notesAndRests:\n",
    "        \n",
    "        symbol = None\n",
    "        # preparar encoding notes\n",
    "        if isinstance(event, m21.note.Note):\n",
    "            symbol = event.pitch.midi # midi note ex: 60\n",
    "        # preparar encoding rests\n",
    "        elif isinstance(event, m21.note.Rest):\n",
    "            symbol = \"r\"\n",
    "            \n",
    "        # convert the note/rest in ts representation -> [60, \"_\", \"_\", \"_\"]\n",
    "        steps = int(event.duration.quarterLength / time_step) # Evento dura steps - cada step é uma obs da TS\n",
    "        for step in range(steps):\n",
    "            if step == 0:\n",
    "                encoded_song.append(symbol)\n",
    "            else:\n",
    "                encoded_song.append('_')\n",
    "                \n",
    "    # cast encoded song to a str\n",
    "    encoded_song = \" \".join(map(str,encoded_song))\n",
    "    \n",
    "    return encoded_song\n"
   ]
  },
  {
   "cell_type": "code",
   "execution_count": null,
   "metadata": {
    "id": "VH6VcxxtcQ1K"
   },
   "outputs": [],
   "source": [
    "# processar data\n",
    "def preprocess(dataset_path):\n",
    "    \n",
    "    # load the folk songs\n",
    "    print('#'*100)\n",
    "    print('Loading songs...')\n",
    "    songs = load_songs_in_kern(dataset_path)\n",
    "    print(f'Loaded {len(songs)} songs!')\n",
    "    \n",
    "    print('#'*100)\n",
    "    for index, song in enumerate(songs):\n",
    "        # filter out songs that have non-acceptable durations\n",
    "        if verify_duration(song,ACCEPTABLE_DURATIONS) == False:\n",
    "            # pula current song e vai pra proxima\n",
    "            continue\n",
    "            \n",
    "        \n",
    "        # transpose songs to Cmaj/Amin\n",
    "        #todas as keys seram mapeadas para Cmajor em caso de mode == major e Aminor em caso demode = minor\n",
    "        print(f'Tranposing song {index}')\n",
    "        song = transpose(song)\n",
    "        print(f'Done tranposing song {index}')\n",
    "        print('\\n')\n",
    "        \n",
    "        \n",
    "        # encode songs with music time series representation\n",
    "        print(f'Encoding song {index}')\n",
    "        encoded_song = encode_song(song)\n",
    "        print(f'Done encoding song {index}')\n",
    "        print('\\n')\n",
    "        \n",
    "        \n",
    "        # save songs in text file\n",
    "        print(f'Saving song {index}')\n",
    "        save_path = os.path.join(SAVE_DIR,str(index))\n",
    "        with open(save_path,\"w\") as fp:\n",
    "            fp.write(encoded_song)\n",
    "        print('#'*100)"
   ]
  },
  {
   "cell_type": "code",
   "execution_count": null,
   "metadata": {
    "id": "aVKrccD7cQ1L"
   },
   "outputs": [],
   "source": [
    "def load(file_path):\n",
    "    with open(file_path, \"r\") as fp:\n",
    "        song = fp.read()\n",
    "    return song\n",
    "\n",
    "def create_single_file_dataset(dataset_path, file_dataset_path, sequence_length):\n",
    "    \n",
    "    new_song_delimiter = \"/ \" * sequence_length\n",
    "    songs = \"\"\n",
    "    \n",
    "    # load encoded songs and add limiters\n",
    "    for path, _ , files in os.walk(dataset_path):\n",
    "        for file in files:\n",
    "            file_path = os.path.join(path, file)\n",
    "            song = load(file_path)\n",
    "            \n",
    "            songs = songs + song + \" \" + new_song_delimiter\n",
    "    \n",
    "    # eliminando empty string no final \n",
    "    songs = songs[:-1]\n",
    "        \n",
    "    # save string with all dataset\n",
    "    with open(file_dataset_path, \"w\") as fp:\n",
    "        fp.write(songs)\n",
    "        \n",
    "    return songs"
   ]
  },
  {
   "cell_type": "code",
   "execution_count": null,
   "metadata": {
    "id": "S5whRufScQ1M"
   },
   "outputs": [],
   "source": [
    "def create_mapping(songs , mapping_path):\n",
    "    mappings = {}\n",
    "    \n",
    "    # identify vocabulary\n",
    "    songs = songs.split(' ')\n",
    "    vocab = list(set(songs))\n",
    "    \n",
    "    # create mappings\n",
    "    for index, symbol in enumerate(vocab):\n",
    "        mappings[symbol] = index\n",
    "    \n",
    "    # save vocab to json file\n",
    "    with open(mapping_path, \"w\") as fp:\n",
    "        json.dump(mappings, fp, indent=4)\n",
    "        \n",
    "# converter songs to integers\n",
    "def convert_songs_to_integer(songs):\n",
    "    \n",
    "    #load mappings\n",
    "    with open(MAPPING_PATH, \"r\") as fp:\n",
    "        mappings = json.load(fp)\n",
    "    \n",
    "    #cast songs string to a list\n",
    "    songs = songs.split()\n",
    "    \n",
    "    #map songs int\n",
    "    int_songs = [mappings[symbol] for symbol in songs]\n",
    "    \n",
    "    return int_songs\n",
    "    \n",
    "def generate_training_sequences(sequence_length):\n",
    "    # [11,12,13,14,...] -> input: [11,12], output: 13 ;  input: [12,13], output: 14 ....\n",
    "    \n",
    "    # load songs and map to ints\n",
    "    songs = load(SINGLE_FILE_DATASET)\n",
    "    int_songs = convert_songs_to_integer(songs)\n",
    "    \n",
    "    # generating training sequences\n",
    "    # 100 symbols, 64 length = 100 - 64 = 36 sequences\n",
    "    inputs = []\n",
    "    targets = []\n",
    "    number_of_sequences = len(int_songs) - sequence_length\n",
    "    for i in range(number_of_sequences):\n",
    "        inputs.append(int_songs[i:i+sequence_length])\n",
    "        targets.append(int_songs[i+sequence_length])\n",
    "        \n",
    "    \n",
    "    # one hot encoding\n",
    "    # inputs shape = (n of seuqences, sequence lenght, vocab size)\n",
    "    vocab_size = len(set(int_songs)) # = 18\n",
    "    inputs = keras.utils.to_categorical(inputs, num_classes=vocab_size)\n",
    "    targets = np.array(targets)\n",
    "    \n",
    "    return inputs, targets"
   ]
  },
  {
   "cell_type": "code",
   "execution_count": null,
   "metadata": {
    "id": "1MQen8f6cQ1M"
   },
   "outputs": [],
   "source": [
    "# celula de teste\n",
    "def main():\n",
    "    # pre processar os dados de partituras em strings\n",
    "    preprocess(PATH_erk)\n",
    "    \n",
    "    # todas as mursicas em um arquivo/dataset só\n",
    "    songs = create_single_file_dataset(SAVE_DIR, SINGLE_FILE_DATASET, SEQUENCE_LENGTH)\n",
    "    \n",
    "    # criando o um dicoinario com representações numerocas para cada elemetno do vocabulario\n",
    "    create_mapping(songs,MAPPING_PATH)\n",
    "    \n",
    "    # entradas e targets da LSTM \n",
    "    inputs , targets = generate_training_sequences(SEQUENCE_LENGTH)\n",
    "    \n",
    "    print(f'input shape: {inputs.shape} -- targtes shape: {targets.shape}')\n",
    "    print(f'input type: {type(inputs)} -- targtes type: {type(targets)}')\n",
    "    \n",
    "    print(inputs[:1])\n",
    "    print('#'*100)\n",
    "    print(targets[:1])\n",
    "#main()"
   ]
  },
  {
   "cell_type": "markdown",
   "metadata": {
    "id": "Vb9_2GbOcQ1N"
   },
   "source": [
    "### Criação e treinamento da LSTM"
   ]
  },
  {
   "cell_type": "code",
   "execution_count": null,
   "metadata": {
    "colab": {
     "base_uri": "https://localhost:8080/"
    },
    "executionInfo": {
     "elapsed": 400,
     "status": "ok",
     "timestamp": 1651353060721,
     "user": {
      "displayName": "Jeffson Carneiro Silva Simoes",
      "userId": "14313036157470623052"
     },
     "user_tz": 180
    },
    "id": "VPMrsDjVcQ1N",
    "outputId": "576face5-2576-401f-f3ef-1e9587c0b2b3"
   },
   "outputs": [
    {
     "name": "stdout",
     "output_type": "stream",
     "text": [
      "Num GPUs Available:  1\n",
      "/device:GPU:0\n"
     ]
    }
   ],
   "source": [
    "#tf.debugging.set_log_device_placement(True)\n",
    "print(\"Num GPUs Available: \", len(tf.config.list_physical_devices('GPU')))\n",
    "GPU_NAME = tf.test.gpu_device_name()\n",
    "print(GPU_NAME)\n"
   ]
  },
  {
   "cell_type": "code",
   "execution_count": null,
   "metadata": {
    "id": "uZji39eClxqo"
   },
   "outputs": [],
   "source": [
    "#load mappings\n",
    "mappings = None\n",
    "with open(MAPPING_PATH, \"r\") as fp:\n",
    "    mappings = json.load(fp)\n",
    "\n",
    "# PATH para salvar o modelo\n",
    "SAVE_MODEL_PATH = '/content/drive/MyDrive/''Musical 2''/projeto/model.h5'\n",
    "\n",
    "# variaveis globais para LSTM\n",
    "OUTPUT_UNITS = len(mappings) # num of out put units (classes/labels/notas musicais)\n",
    "\n",
    "NUM_UNITS = [256] # n of neurons of internal layers , each position correspond to a layer\n",
    "\n",
    "LOSS = \"sparse_categorical_crossentropy\" # type of loss function \n",
    "\n",
    "LEARNING_RATE = 0.001 # learning rate to apply\n",
    "\n",
    "EPOCHS = 40\n",
    "BATCH_SIZE = 64"
   ]
  },
  {
   "cell_type": "code",
   "execution_count": null,
   "metadata": {
    "id": "cWbgdSRIcQ1O"
   },
   "outputs": [],
   "source": [
    "\n",
    "def build_model(output_units, num_units, loss, learning_rate):\n",
    "    \n",
    "    # create design;architecture of model\n",
    "    input_layer = keras.layers.Input(shape=(None,output_units))\n",
    "    lstm_layer = tf.compat.v1.keras.layers.CuDNNLSTM(num_units[0])(input_layer)\n",
    "    dropout_layer = keras.layers.Dropout(0.2)(lstm_layer)\n",
    "    output_layer = keras.layers.Dense(output_units, activation='softmax')(dropout_layer)\n",
    "    \n",
    "    model = keras.Model(input_layer,output_layer)\n",
    "    \n",
    "    # compile\n",
    "    model.compile(\n",
    "        loss=loss,\n",
    "        optimizer=keras.optimizers.Adam(learning_rate=learning_rate),\n",
    "        metrics = ['accuracy'])\n",
    "    \n",
    "    model.summary()\n",
    "    \n",
    "    return model\n",
    "    \n",
    "\n",
    "\n",
    "def train(output_units=OUTPUT_UNITS, num_units=NUM_UNITS, loss=LOSS, learning_rate=LEARNING_RATE):\n",
    "    print('#'*100)\n",
    "    print('Iniciando Criação e treinamento da LSTM...')\n",
    "    \n",
    "    # generating sequences\n",
    "    print('#'*100)\n",
    "    print('Generando sequencias de treinamento...')\n",
    "    inputs , targets = generate_training_sequences(SEQUENCE_LENGTH)\n",
    "    \n",
    "    # build network\n",
    "    print('#'*100)\n",
    "    print('Criando Arquitetura do modelo...')\n",
    "    model = build_model(output_units, num_units, loss, learning_rate)\n",
    "    \n",
    "    # train model\n",
    "    print('#'*100)\n",
    "    print('Iniciando o Treinamento...')\n",
    "    # fit model using our gpu\n",
    "    with tf.device(GPU_NAME):\n",
    "        model.fit(inputs, targets, epochs=EPOCHS, batch_size=BATCH_SIZE, verbose=1)\n",
    "    \n",
    "    # save model\n",
    "    print('#'*100)\n",
    "    print('Salvando o modelo...')\n",
    "    model.save(SAVE_MODEL_PATH)\n",
    "    \n",
    "    print('#'*100)\n",
    "    print('DONE')"
   ]
  },
  {
   "cell_type": "code",
   "execution_count": null,
   "metadata": {
    "colab": {
     "base_uri": "https://localhost:8080/"
    },
    "executionInfo": {
     "elapsed": 5066848,
     "status": "ok",
     "timestamp": 1651259358187,
     "user": {
      "displayName": "Jeffson Carneiro Silva Simoes",
      "userId": "14313036157470623052"
     },
     "user_tz": 180
    },
    "id": "z2RfU4FncQ1O",
    "outputId": "48e00bb4-f780-47d7-a5db-a043f76a9188"
   },
   "outputs": [
    {
     "name": "stdout",
     "output_type": "stream",
     "text": [
      "####################################################################################################\n",
      "Iniciando Criação e treinamento da LSTM...\n",
      "####################################################################################################\n",
      "Generando sequencias de treinamento...\n",
      "####################################################################################################\n",
      "Criando Arquitetura do modelo...\n",
      "Model: \"model_3\"\n",
      "_________________________________________________________________\n",
      " Layer (type)                Output Shape              Param #   \n",
      "=================================================================\n",
      " input_4 (InputLayer)        [(None, None, 38)]        0         \n",
      "                                                                 \n",
      " cu_dnnlstm_3 (CuDNNLSTM)    (None, 256)               303104    \n",
      "                                                                 \n",
      " dropout_3 (Dropout)         (None, 256)               0         \n",
      "                                                                 \n",
      " dense_3 (Dense)             (None, 38)                9766      \n",
      "                                                                 \n",
      "=================================================================\n",
      "Total params: 312,870\n",
      "Trainable params: 312,870\n",
      "Non-trainable params: 0\n",
      "_________________________________________________________________\n",
      "####################################################################################################\n",
      "Iniciando o Treinamento...\n",
      "Epoch 1/40\n",
      "5660/5660 [==============================] - 119s 21ms/step - loss: 0.7091 - accuracy: 0.7839\n",
      "Epoch 2/40\n",
      "5660/5660 [==============================] - 117s 21ms/step - loss: 0.5922 - accuracy: 0.8066\n",
      "Epoch 3/40\n",
      "5660/5660 [==============================] - 124s 22ms/step - loss: 0.5552 - accuracy: 0.8204\n",
      "Epoch 4/40\n",
      "5660/5660 [==============================] - 129s 23ms/step - loss: 0.5259 - accuracy: 0.8310\n",
      "Epoch 5/40\n",
      "5660/5660 [==============================] - 130s 23ms/step - loss: 0.5047 - accuracy: 0.8362\n",
      "Epoch 6/40\n",
      "5660/5660 [==============================] - 129s 23ms/step - loss: 0.4917 - accuracy: 0.8408\n",
      "Epoch 7/40\n",
      "5660/5660 [==============================] - 129s 23ms/step - loss: 0.4739 - accuracy: 0.8450\n",
      "Epoch 8/40\n",
      "5660/5660 [==============================] - 116s 21ms/step - loss: 0.4602 - accuracy: 0.8489\n",
      "Epoch 9/40\n",
      "5660/5660 [==============================] - 128s 23ms/step - loss: 0.4479 - accuracy: 0.8529\n",
      "Epoch 10/40\n",
      "5660/5660 [==============================] - 129s 23ms/step - loss: 0.4342 - accuracy: 0.8571\n",
      "Epoch 11/40\n",
      "5660/5660 [==============================] - 129s 23ms/step - loss: 0.4214 - accuracy: 0.8610\n",
      "Epoch 12/40\n",
      "5660/5660 [==============================] - 132s 23ms/step - loss: 0.4097 - accuracy: 0.8642\n",
      "Epoch 13/40\n",
      "5660/5660 [==============================] - 131s 23ms/step - loss: 0.3976 - accuracy: 0.8678\n",
      "Epoch 14/40\n",
      "5660/5660 [==============================] - 130s 23ms/step - loss: 0.3862 - accuracy: 0.8712\n",
      "Epoch 15/40\n",
      "5660/5660 [==============================] - 130s 23ms/step - loss: 0.3751 - accuracy: 0.8747\n",
      "Epoch 16/40\n",
      "5660/5660 [==============================] - 129s 23ms/step - loss: 0.3665 - accuracy: 0.8779\n",
      "Epoch 17/40\n",
      "5660/5660 [==============================] - 129s 23ms/step - loss: 0.3581 - accuracy: 0.8800\n",
      "Epoch 18/40\n",
      "5660/5660 [==============================] - 130s 23ms/step - loss: 0.3512 - accuracy: 0.8821\n",
      "Epoch 19/40\n",
      "5660/5660 [==============================] - 130s 23ms/step - loss: 0.3425 - accuracy: 0.8849\n",
      "Epoch 20/40\n",
      "5660/5660 [==============================] - 123s 22ms/step - loss: 0.3333 - accuracy: 0.8880\n",
      "Epoch 21/40\n",
      "5660/5660 [==============================] - 130s 23ms/step - loss: 0.3279 - accuracy: 0.8898\n",
      "Epoch 22/40\n",
      "5660/5660 [==============================] - 129s 23ms/step - loss: 0.3213 - accuracy: 0.8918\n",
      "Epoch 23/40\n",
      "5660/5660 [==============================] - 129s 23ms/step - loss: 0.3139 - accuracy: 0.8940\n",
      "Epoch 24/40\n",
      "5660/5660 [==============================] - 130s 23ms/step - loss: 0.3107 - accuracy: 0.8953\n",
      "Epoch 25/40\n",
      "5660/5660 [==============================] - 129s 23ms/step - loss: 0.3043 - accuracy: 0.8974\n",
      "Epoch 26/40\n",
      "5660/5660 [==============================] - 130s 23ms/step - loss: 0.3090 - accuracy: 0.8962\n",
      "Epoch 27/40\n",
      "5660/5660 [==============================] - 129s 23ms/step - loss: 0.2954 - accuracy: 0.8998\n",
      "Epoch 28/40\n",
      "5660/5660 [==============================] - 116s 21ms/step - loss: 0.2957 - accuracy: 0.8990\n",
      "Epoch 29/40\n",
      "5660/5660 [==============================] - 128s 23ms/step - loss: 0.2928 - accuracy: 0.9005\n",
      "Epoch 30/40\n",
      "5660/5660 [==============================] - 117s 21ms/step - loss: 0.2911 - accuracy: 0.9012\n",
      "Epoch 31/40\n",
      "5660/5660 [==============================] - 117s 21ms/step - loss: 0.2860 - accuracy: 0.9028\n",
      "Epoch 32/40\n",
      "5660/5660 [==============================] - 117s 21ms/step - loss: 0.2829 - accuracy: 0.9032\n",
      "Epoch 33/40\n",
      "5660/5660 [==============================] - 118s 21ms/step - loss: 0.2800 - accuracy: 0.9046\n",
      "Epoch 34/40\n",
      "5660/5660 [==============================] - 124s 22ms/step - loss: 0.2754 - accuracy: 0.9059\n",
      "Epoch 35/40\n",
      "5660/5660 [==============================] - 130s 23ms/step - loss: 0.2706 - accuracy: 0.9074\n",
      "Epoch 36/40\n",
      "5660/5660 [==============================] - 129s 23ms/step - loss: 0.2669 - accuracy: 0.9087\n",
      "Epoch 37/40\n",
      "5660/5660 [==============================] - 130s 23ms/step - loss: 0.2644 - accuracy: 0.9092\n",
      "Epoch 38/40\n",
      "5660/5660 [==============================] - 130s 23ms/step - loss: 0.2627 - accuracy: 0.9107\n",
      "Epoch 39/40\n",
      "5660/5660 [==============================] - 129s 23ms/step - loss: 0.2602 - accuracy: 0.9109\n",
      "Epoch 40/40\n",
      "5660/5660 [==============================] - 123s 22ms/step - loss: 0.2587 - accuracy: 0.9112\n",
      "####################################################################################################\n",
      "Salvando o modelo...\n",
      "####################################################################################################\n",
      "DONE\n"
     ]
    }
   ],
   "source": [
    "train()"
   ]
  },
  {
   "cell_type": "markdown",
   "metadata": {
    "id": "24E4aOUISH8c"
   },
   "source": [
    "### Gerador de Melodias"
   ]
  },
  {
   "cell_type": "code",
   "execution_count": null,
   "metadata": {
    "id": "ku4Qh-IPcQ1P"
   },
   "outputs": [],
   "source": [
    "\n",
    "def sample_with_temperatures(probabilities, temperature):\n",
    "  # temperature -> infinity - unpredictable choices\n",
    "  # temperature -> 0 - deterministic\n",
    "  # temperature -> 1 nothing changes, uses probabilites from model\n",
    "\n",
    "    predictions = np.log(probabilities) / temperature\n",
    "\n",
    "    probabilities = np.exp(predictions) / np.sum(np.exp(predictions))\n",
    "\n",
    "    choices = range(len(probabilities))\n",
    "    index = np.random.choice(choices, p=probabilities)\n",
    "\n",
    "    return index\n",
    "\n",
    "# seed -> melody encoded: '64 _ 54 _ _' ....\n",
    "# num_steps -> numero de steps que a LSTM vai gerar\n",
    "# max_sequence_lemgth quantidade maxima de ponto da seed \n",
    "# temperature ->   \n",
    "def generate_melody(seed, num_steps, max_sequence_length, temperature):\n",
    "    model_path='/content/drive/MyDrive/''Musical 2''/projeto/model.h5'\n",
    "    model = keras.models.load_model(model_path)\n",
    "\n",
    "    with open(MAPPING_PATH, \"r\") as fp:\n",
    "        mappings = json.load(fp)\n",
    "\n",
    "    start_symbols = ['/'] * SEQUENCE_LENGTH\n",
    "\n",
    "\n",
    "    # CREATE seed with start symbol\n",
    "    seed = seed.split()\n",
    "    melody = seed\n",
    "    seed = start_symbols + seed\n",
    "\n",
    "    # map seed to integers\n",
    "    seed_int = [mappings[symbol] for symbol in seed]\n",
    "\n",
    "\n",
    "    for _ in range(num_steps):\n",
    "        # limit seed by max_length\n",
    "        seed_int = seed_int[-max_sequence_length:]\n",
    "\n",
    "        # one-hot encode seed\n",
    "        oneHot_seed = keras.utils.to_categorical(seed_int,num_classes=len(mappings)) # 2 dimensions: (max_sequence_length, num of symbols in vocab)\n",
    "\n",
    "        # keras expects 3 dimensions so we need to reshape this (max_sequence_length, num of symbols in vocab) for (1 , max_sequence_length, num of symbols in vocab)\n",
    "        oneHot_seed = oneHot_seed[np.newaxis, ...] \n",
    "\n",
    "        # make_predictions\n",
    "        probabilities = model.predict(oneHot_seed)[0] # [0] pra pegar a probabilidade do primeiro sample(podemos passar batch of samples), resulta = [0.1, 0.3, 0.6]\n",
    "\n",
    "        output_int = sample_with_temperatures(probabilities, temperature)\n",
    "\n",
    "        # update seed\n",
    "        seed_int.append(output_int)\n",
    "\n",
    "        # map in to our enconding\n",
    "        output_symbol = [key for key, value in mappings.items() if value == output_int][0]\n",
    "\n",
    "        # check if we are at the end of a melody\n",
    "        if output_symbol == '/':\n",
    "            break\n",
    "\n",
    "        # update melody\n",
    "        melody.append(output_symbol)\n",
    "\n",
    "\n",
    "    return melody\n",
    "\n",
    "def save_melody(melody, step_duration=0.25, format='midi',file_name=\"mel.mid\"):\n",
    "\n",
    "    # create music21 stream \n",
    "    stream = m21.stream.Stream()\n",
    "\n",
    "    # parse all the symbols and create rest/notes objects\n",
    "    start_symbol = None\n",
    "    step_counter = 1\n",
    "\n",
    "    for i, symbol in enumerate(melody):\n",
    "        # handle case in which we have note/rest\n",
    "        if (symbol != '_') or (i == len(melody)-1):\n",
    "            # not the initial symbol\n",
    "            if start_symbol is not None:\n",
    "                m21_event = None\n",
    "                quarter_length_duration = step_duration * step_counter\n",
    "                #rest\n",
    "                if start_symbol == \"r\":\n",
    "                    m21_event = m21.note.Rest(quarterLength=quarter_length_duration)\n",
    "                #note\n",
    "                else:\n",
    "                    m21_event = m21.note.Note(int(start_symbol), quarterLength=quarter_length_duration)\n",
    "\n",
    "                stream.append(m21_event)\n",
    "                # reset step counter\n",
    "                step_counter = 1\n",
    "\n",
    "            start_symbol = symbol\n",
    "            # handle in case of _ (prolongation sign)\n",
    "        else:\n",
    "            step_counter += 1\n",
    "\n",
    "  # write m21 stream to midi file\n",
    "  stream.write(format,file_name)\n"
   ]
  },
  {
   "cell_type": "markdown",
   "metadata": {
    "id": "l5qmt94T_8Sv"
   },
   "source": [
    "### Salvando Melodias\n",
    "*  **Seed:** melodia encodificada (parte ou completa)\n",
    "*  **Temperatura:** estrategia de escolhar dentro das probabilidades geradas pela sauda softmax (Ela da maior flexibilidade na criação da nova melodia)"
   ]
  },
  {
   "cell_type": "code",
   "execution_count": null,
   "metadata": {
    "colab": {
     "base_uri": "https://localhost:8080/"
    },
    "executionInfo": {
     "elapsed": 64574,
     "status": "ok",
     "timestamp": 1651363629781,
     "user": {
      "displayName": "Jeffson Carneiro Silva Simoes",
      "userId": "14313036157470623052"
     },
     "user_tz": 180
    },
    "id": "nHFn1xntiYs8",
    "outputId": "24b97a11-a35d-441a-c021-520b3a668370"
   },
   "outputs": [
    {
     "name": "stdout",
     "output_type": "stream",
     "text": [
      "####################################################################################################\n",
      "Melodia: ['55', '_', '52', '_', '55', '_', '60', '_', '52', '_', '55', '_', '60', '_', '60', '_', '59', '_', '57', '_', '57', '_', '55', '_', '55', '_', '55', '_', '52', '_', '_', '_', '55', '_', '_', '_', '60', '_', '_', '_', '64', '_', '_', '_', '62', '_', '_', '_', '_', '_', '60', '_', '59', '_', '57', '_', '55', '_', '_', '_', 'r', '_', '_', '_', '55', '_', '55', '_', '55', '_', '60', '_', '60', '_', '_', '_', '57', '_', '57', '_', '57', '_', '57', '_', '62', '_', '_', '_', '55', '_', '53', '_', '52', '_', '_', '_', '55', '_', '_', '_', '60', '_', '_', '_', '60', '_', '_', '_', '62', '_', '_', '_', '62', '_', '_', '_', '64', '_', '_', '_', '60', '_', '_', '_', 'r', '_', '_', '_', '55', '_', '55', '_', '60', '_', '_', '_', '60', '_', '_', '_', '62', '_', '60', '_', '59', '_', '57', '_', '57', '_', '_', '_', '55', '_', '_', '_', 'r', '_', '_', '_', '55', '_', '_', '_', '55', '_', '_', '_', '60', '_', '_', '_', '57', '_', '_', '_', '57', '_', '_', '_', '57', '_', '_', '_', '60', '_', '_', '_', '55', '_', '_', '53', '52', '_', '53', '_', '55', '_', '_', '_', '60', '_', '_', '_', '57', '_', '_', '_', '57', '_', '57', '_', '57', '_', '62', '_', '60', '_', '_', '_', 'r', '_', '_', '_', '64', '_', '_', '_', '62', '_', '_', '_', '62', '_', '_', '_', '60', '_', '_', '_', '64', '_', '_', '_', '60', '_', '_', '_', '59', '_', '_', '_', '57', '_', '_', '_', '57', '_', '57', '_', '55', '_', '_', '_', '_', '_', '_', '_', 'r', '_', '_', '_', '55', '_', '_', '_', '60', '_', '_', '_', '60', '_', '_', '_', '62', '_', '_', '_', '62', '_', '_', '_', '64', '_', '_', '_', '62', '_', '_', '_', '60', '_', '_', '_', '59', '_', '57', '_', '59', '_', '_', '_', '60', '_', '_', '_', '62', '_', '_', '_', '62', '_', '_', '_', '62', '_', '_', '_', '_', '_', '_', '_', '62', '_', '_', '_', '62', '_', '_', '_', '62', '_', '_', '_', '62', '_', '_', '_', '62', '_', '_', '_', '62', '_', '_', '_', '62', '_', '_', '_', '62', '_', '_', '_', '62', '_', '_', '_', '62', '_', '_', '_', '62', '_', '_', '_', '_', '_', '_', '_', '64', '_', '_', '_', '60', '_', '_', '_', '60', '_', '_', '_', '59', '_', '_', '_', '60', '_', '_', '_', '_', '_', '_', '_']\n",
      "Valor da temperatura(sampling): 1\n",
      "Melodia com temperatura 1 salva!\n",
      "####################################################################################################\n"
     ]
    },
    {
     "name": "stderr",
     "output_type": "stream",
     "text": [
      "/usr/local/lib/python3.7/dist-packages/ipykernel_launcher.py:7: RuntimeWarning: divide by zero encountered in log\n",
      "  import sys\n"
     ]
    },
    {
     "name": "stdout",
     "output_type": "stream",
     "text": [
      "Melodia: ['55', '_', '52', '_', '55', '_', '60', '_', '52', '_', '55', '_', '60', '_', '60', '_', '59', '_', '57', '_', '57', '_', '55', '_', '55', '_', '55', '_', '60', '_', '_', '_', '59', '_', '60', '_', '62', '_', '_', '_', '64', '_', '_', '_', '60', '_', '_', '_', 'r', '_', '60', '_', '59', '_', '60', '_', '62', '_', '_', '_', '_', '_', '65', '_', '64', '_', '62', '_', '60', '_', '_', '_', 'r', '_', '55', '_', '55', '_', '55', '_', '57', '_', '_', '_', '59', '_', '57', '_', '55', '_', '_', '_', '55', '_', '_', '_', 'r', '_', '55', '_', '55', '_', '64', '_', '62', '_', '_', '_', '_', '_', '60', '_', '59', '_', '57', '_', '57', '_', '_', '_', 'r', '_', '_', '_', '_', '_', '55', '_', '55', '_', '60', '_', '60', '_', '_', '_', 'r', '_', '60', '_', '59', '_', '57', '_', '57', '_', '_', '_', 'r', '_', '_', '_', '55', '_', '_', '_', '55', '_', '_', '_', '60', '_', '_', '_', '55', '_', '_', '_', '52', '_', '_', '_', '55', '_', '_', '_', '60', '_', '_', '_', '_', '_', '_', '_', 'r', '_', '_', '_']\n",
      "Valor da temperatura(sampling): 3\n",
      "Melodia com temperatura 3 salva!\n",
      "####################################################################################################\n",
      "Melodia: ['55', '_', '52', '_', '55', '_', '60', '_', '52', '_', '55', '_', '60', '_', '60', '_', '59', '_', '57', '_', '57', '_', '55', '_', '55', '_', '_', '_', 'r', '_', '_', '_', '55', '_', '60', '_', '59', '_', '57', '_', '55', '_', '_', '_', '60', '_', '57', '_', '55', '_', '53', '_', '53', '_', '_', '_', '62', '_', '_', '_', '60', '_', '_', '_', 'r', '_', '_', '_', '55', '_', '55', '_', '65', '_', '64', '_', '62', '_', '62', '_', '64', '_', '62', '_', '60', '_', '59', '_', '60', '_', '_', '_', 'r', '_']\n",
      "Valor da temperatura(sampling): 5\n",
      "Melodia com temperatura 5 salva!\n",
      "####################################################################################################\n",
      "Melodia: ['55', '_', '52', '_', '55', '_', '60', '_', '52', '_', '55', '_', '_', '_', '52', '_', '53', '_', '55', '_', '_', '_', '60', '_', '60', '_', '59', '_', '_', '_', '59', '_', '57', '_', '55', '_', '_', '_', '55', '_', '_', '_', '55', '_', '_', '_', 'r', '_', '55', '_', '55', '_', '_', '_', '64', '_', '_', '_', '64', '_', '_', '_', '64', '_', '_', '_', '64', '_', '62', '_', '62', '_', '62', '_', '62', '_', '_', '_', '64', '_', '_', '_', '60', '_', '_', '_', '55', '_', '_', '_', '60', '_', '_', '_', '60', '_', '64', '_', '67', '_', '_', '_', '64', '_', '60', '_', '62', '_', '_', '_', '62', '_', '_', '_', '62', '_', '_', '_', '62', '_', '62', '_', '62', '_', '_', '_', '_', '_', '62', '_', '62', '_', '64', '_', '65', '_', '_', '_', '64', '_', '_', '_', '62', '_', '_', '_', '60', '_', '_', '_']\n",
      "Valor da temperatura(sampling): 7\n",
      "Melodia com temperatura 7 salva!\n",
      "####################################################################################################\n",
      "Melodia: ['55', '_', '52', '_', '55', '_', '60', '_', '52', '_', '55', '_', '52', '_', '53', '_', '55', '_', '_', '_', '55', '_', '62', '_', '62', '_', '62', '_', '59', '_', '_', '_', '57', '_', '55', '_', '60', '_', '_', '_', '59', '_', '_', '_', '60', '_', 'r', '_', '55', '_', '_', '_', '60', '_', '_', '59', '57', '_', '53', '_', '57', '_', '_', '_', '60', '_', '57', '_', '57', '_', '55', '_', '55', '_', '55', '_', '60', '_', '_', '_', '60', '_', '_', '_', '59', '_', '62', '_', '62', '_', '60', '_', '59', '_', '60', '_', '62', '_', '64', '_', '60', '_', '_', '_', '60', '_', '_', '_', 'r', '_', '60', '_', '55', '_', '55', '_', '57', '_', '_', '_', '59', '_', '_', '_', '60', '_', '57', '_', '55', '_', '_', '_', 'r', '_', '55', '_', '55', '_', '55', '_', '60', '_', '_', '_', '55', '_', '_', '_', '55', '_', '_', '_', '59', '_', '60', '_', '62', '_', '_', '_', '65', '_', '65', '_', '64', '_', '_', '_', '62', '_', '_', '_', 'r', '_', '62', '_', '64', '_', '62', '_', '60', '_', '57', '_', '55', '_', '_', '_', '62', '_', '67', '_', '62', '_', '_', '_', 'r', '_', '62', '_', '59', '_', '55', '_', '65', '_', '_', '64', '62', '_', '_', '_', '62', '_', '_', '_', '60', '_', '62', '_', '64', '_', '69', '_', '67', '_', '_', '_', '60', '_', '64', '_', '67', '_', '_', '_', '64', '_', '_', '_', '62', '_', '_', '_', '_', '_', '_', '_', 'r', '_', '_', '_', '67', '_', '_', '_', '64', '_', '_', '_', '_', '_', '65', '_', '67', '_', '_', '_', '69', '_', '67', '_', '65', '_', '_', '_', '65', '_', '69', '_', '67', '_', '_', '_', 'r', '_', '64', '_', '62', '_', '_', '_', '62', '_', '_', '_', '67', '_', '_', '_', '65', '_', '_', '_', '59', '_', '_', '_', '_', '_', '_', '_', 'r', '_', '_', '_', '67', '_', '_', '_', '64', '_', '_', '_', '_', '_', '62', '_', '60', '_', '_', '_', '69', '_', '_', '_', '67', '_', '_', '_', '_', '_', '65', '_', '65', '_', '_', '_', '64', '_', '_', '_', '62', '_', '_', '_', '_', '_', '_', '_', '60', '_', '_', '_', '_', '_', '_', '_']\n",
      "Valor da temperatura(sampling): 9\n",
      "Melodia com temperatura 9 salva!\n"
     ]
    }
   ],
   "source": [
    "# testar gerador de melodias\n",
    "seed = \"55 _ 52 _ 55 _ 60 _ 52 _ 55\"\n",
    "temperatures = [0.1 , 0.3, 0.5, 0.7, 0.9]\n",
    "\n",
    "for temp in temperatures:\n",
    "    print('#'*100)\n",
    "    melody = generate_melody(seed, 500, SEQUENCE_LENGTH, temp)\n",
    "    print(f'Melodia: {melody}')\n",
    "\n",
    "    temp_value = str(temp).split('.')[-1]\n",
    "    print(f'Valor da temperatura(sampling): {temp_value}')\n",
    "\n",
    "    path = '/content/drive/MyDrive/''Musical 2''/projeto/'\n",
    "    file_name = f'mel_{temp_value}.mid'\n",
    "    final_path = path + file_name\n",
    "\n",
    "    save_melody(melody,file_name=final_path)\n",
    "    print(f'Melodia com temperatura {temp_value} salva!')"
   ]
  },
  {
   "cell_type": "code",
   "execution_count": null,
   "metadata": {
    "id": "AIjAN4DZrVuf"
   },
   "outputs": [],
   "source": [
    "# file_name = '/content/drive/MyDrive/''Musical 2''/projeto/mel.mid'\n",
    "# save_melody(melody,file_name=file_name)"
   ]
  }
 ],
 "metadata": {
  "accelerator": "GPU",
  "colab": {
   "collapsed_sections": [],
   "name": "Melody_Generator.ipynb",
   "provenance": []
  },
  "kernelspec": {
   "display_name": "Python 3",
   "language": "python",
   "name": "python3"
  },
  "language_info": {
   "codemirror_mode": {
    "name": "ipython",
    "version": 3
   },
   "file_extension": ".py",
   "mimetype": "text/x-python",
   "name": "python",
   "nbconvert_exporter": "python",
   "pygments_lexer": "ipython3",
   "version": "3.7.3"
  }
 },
 "nbformat": 4,
 "nbformat_minor": 1
}
